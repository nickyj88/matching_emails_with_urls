{
 "cells": [
  {
   "cell_type": "markdown",
   "metadata": {
    "slideshow": {
     "slide_type": "slide"
    }
   },
   "source": [
    "<h2>Methodology</h2>"
   ]
  },
  {
   "cell_type": "markdown",
   "metadata": {
    "slideshow": {
     "slide_type": "fragment"
    }
   },
   "source": [
    "<p>1. Identify what will be needed to get the job done, and declare our imports</p>"
   ]
  },
  {
   "cell_type": "markdown",
   "metadata": {
    "slideshow": {
     "slide_type": "fragment"
    }
   },
   "source": [
    "<p>2. Read in the file.</p>"
   ]
  },
  {
   "cell_type": "markdown",
   "metadata": {
    "slideshow": {
     "slide_type": "fragment"
    }
   },
   "source": [
    "<p>3. Format the emails to make url's.'</p>"
   ]
  },
  {
   "cell_type": "markdown",
   "metadata": {
    "slideshow": {
     "slide_type": "fragment"
    }
   },
   "source": [
    "<p>4. Use the requests library to check urls for 200 responses.</p>"
   ]
  },
  {
   "cell_type": "markdown",
   "metadata": {
    "slideshow": {
     "slide_type": "fragment"
    }
   },
   "source": [
    "<p>5. Add all results back to the dataframe and inspect for satisfactory matches.</p>"
   ]
  },
  {
   "cell_type": "markdown",
   "metadata": {
    "slideshow": {
     "slide_type": "fragment"
    }
   },
   "source": [
    "<p>6. If the websites appear to match the urls at an acceptable rate, then-  <b>wahoo!</b> If not, we have more work to do.</p>"
   ]
  },
  {
   "cell_type": "markdown",
   "metadata": {
    "slideshow": {
     "slide_type": "slide"
    }
   },
   "source": [
    "<h3>The libraries we'll be using:</h3>"
   ]
  },
  {
   "cell_type": "markdown",
   "metadata": {
    "slideshow": {
     "slide_type": "fragment"
    }
   },
   "source": [
    "```python \n",
    "import pandas as pd\n",
    "import requests\n",
    "```"
   ]
  },
  {
   "cell_type": "markdown",
   "metadata": {
    "slideshow": {
     "slide_type": "subslide"
    }
   },
   "source": [
    "<h2>2. Read in the file</h2>\n"
   ]
  },
  {
   "cell_type": "markdown",
   "metadata": {
    "slideshow": {
     "slide_type": "fragment"
    }
   },
   "source": [
    "<p>I'm guessing someone would supply a list of emails in csv. I prefer to use pandas because I like working with dataframes. Could just as well use python's built in CSV reader and create some lists, but this is quick and nice.</p>"
   ]
  },
  {
   "cell_type": "markdown",
   "metadata": {
    "slideshow": {
     "slide_type": "fragment"
    }
   },
   "source": [
    "```python \n",
    "email_list = pd.read_csv(\"./emails.csv\")\n",
    "```"
   ]
  },
  {
   "cell_type": "markdown",
   "metadata": {
    "slideshow": {
     "slide_type": "subslide"
    }
   },
   "source": [
    "<h3>3. Format the URL's.</h3>"
   ]
  },
  {
   "cell_type": "markdown",
   "metadata": {
    "slideshow": {
     "slide_type": "fragment"
    }
   },
   "source": [
    "<p> I can't think of an email that is so bizarre as to justify starting any more complex than just checking the literal email domains for websites. So I'll just split all my emails on the '@' and see what I get.</p>\n",
    "```python \n",
    "email_list['domain'] = email_list['email'].map(lambda x: x.split(\"@\")[1]\n",
    "```"
   ]
  },
  {
   "cell_type": "markdown",
   "metadata": {
    "slideshow": {
     "slide_type": "subslide"
    }
   },
   "source": [
    "<h3>4. Use the requests library to check url's for 200 responses.</h3>"
   ]
  },
  {
   "cell_type": "markdown",
   "metadata": {
    "slideshow": {
     "slide_type": "fragment"
    }
   },
   "source": [
    "<p> For this we'll define a function that returns a list.</p>"
   ]
  },
  {
   "cell_type": "markdown",
   "metadata": {
    "slideshow": {
     "slide_type": "fragment"
    }
   },
   "source": [
    "```python \n",
    "def check_responses(domain):\n",
    "    url_string = \"http://www.\" + domain\n",
    "    r = requests.get(url_string)\n",
    "    print(r.status_code)\n",
    "    if r.status_code == 200:\n",
    "        return url_string\n",
    "    else:\n",
    "        return \"NO MATCH\"\n",
    "```        \n"
   ]
  },
  {
   "cell_type": "markdown",
   "metadata": {
    "slideshow": {
     "slide_type": "subslide"
    }
   },
   "source": [
    "<h3>5. We'll create a new column to check our results.</h3>\n",
    "```python\n",
    "email_list[\"website_url\"] = email_list[\"domain\"].apply(check_responses)\n",
    "\n",
    "print(round(len(email_list[email_list[\"website_url\"] == \"NO MATCH\"].index) / len(email_list.index),2))\n",
    "```\n"
   ]
  },
  {
   "cell_type": "markdown",
   "metadata": {
    "slideshow": {
     "slide_type": "slide"
    }
   },
   "source": [
    "<h2> Conclusions </h2>\n",
    "<p>It's tough to say how close this would get us to a reliable list of url's. What I would need to understand is the significance of the ask, and the value prop and usage of the data.</p>\n",
    "<p> Is this just speeding up our outreach and will it only be used internally? Following the 80/20 rule, this may have gotten us close enough in half an hour to add some serious value in bolstering the business development team's efforts. </p>\n",
    "<p>If this is going to be shipped to a client for their personal outreach (perhaps they were given a weak email list export from a partner's Salesforce account and need help filling in the blanks), then we have some serious QA to do. How long is the list? Can someone check it manually? That almost defeats the purpose of the script. So we'll probably need to get fancy.</p>\n"
   ]
  },
  {
   "cell_type": "markdown",
   "metadata": {
    "slideshow": {
     "slide_type": "slide"
    }
   },
   "source": [
    "<h2>Next steps</h2>\n",
    "<p> My concern is not necessarily the negatives. We could strip out any punctuation in the domain and run it again, replacing dashes with undescores, etc, which may improve our hit rate. What I do worry about is false positives and sending a client to a porn site or something.</p>\n",
    "<p>My next move would probably be to actually run some regex on those responses to see if any of the HTML can lead us to a confirmation</p>\n",
    "<p> Are these emails thematically linked in any way? If we can round up a short list of key words into an array we could prettify the response content using Beautiful Soup and check for matches. If some number of matches were found on the page then we could call it safe. Again, it really depends on the use case and for whom we are grabbing this data.</p>"
   ]
  },
  {
   "cell_type": "markdown",
   "metadata": {
    "slideshow": {
     "slide_type": "subslide"
    }
   },
   "source": [
    "<p> Looking forward to discussing this and any other examples you have of the kinds of work you do, and what might be thrown at me. I'm very keen to learn how data science can impact the non-profit world.</p>"
   ]
  }
 ],
 "metadata": {
  "celltoolbar": "Slideshow",
  "kernelspec": {
   "display_name": "Python 3",
   "language": "python",
   "name": "python3"
  },
  "language_info": {
   "codemirror_mode": {
    "name": "ipython",
    "version": 3
   },
   "file_extension": ".py",
   "mimetype": "text/x-python",
   "name": "python",
   "nbconvert_exporter": "python",
   "pygments_lexer": "ipython3",
   "version": "3.4.3"
  }
 },
 "nbformat": 4,
 "nbformat_minor": 0
}
